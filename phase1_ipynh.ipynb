{
  "nbformat": 4,
  "nbformat_minor": 0,
  "metadata": {
    "colab": {
      "provenance": [],
      "toc_visible": true,
      "include_colab_link": true
    },
    "kernelspec": {
      "name": "python3",
      "display_name": "Python 3"
    },
    "language_info": {
      "name": "python"
    }
  },
  "cells": [
    {
      "cell_type": "markdown",
      "metadata": {
        "id": "view-in-github",
        "colab_type": "text"
      },
      "source": [
        "<a href=\"https://colab.research.google.com/github/Leenasmk3/IT326-DataMining-Project/blob/main/phase1_ipynh.ipynb\" target=\"_parent\"><img src=\"https://colab.research.google.com/assets/colab-badge.svg\" alt=\"Open In Colab\"/></a>"
      ]
    },
    {
      "cell_type": "markdown",
      "source": [
        "Project Goal\n",
        "\n",
        "Goal: Classification task to predict survival on the Titanic dataset.\n",
        "\n",
        "Dataset Source\n",
        "The dataset used in this project was obtained from Kaggle ,\n",
        "\n",
        "Dataset name: Titanic Dataset\n",
        "\n",
        "URL: https://www.kaggle.com/datasets/yasserh/titanic-dataset\n",
        "\n"
      ],
      "metadata": {
        "id": "3taSW0wNPRTu"
      }
    },
    {
      "cell_type": "code",
      "source": [
        "import pandas as pd"
      ],
      "metadata": {
        "id": "lQXYxRLhqpnc"
      },
      "execution_count": null,
      "outputs": []
    },
    {
      "cell_type": "code",
      "source": [
        "from google.colab import files\n",
        "url = \"https://raw.githubusercontent.com/Leenasmk3/IT326-DataMining-Project/main/dataset.csv\"\n",
        "data = pd.read_csv(url)\n",
        "\n"
      ],
      "metadata": {
        "id": "-wYABx6DqKpe"
      },
      "execution_count": 8,
      "outputs": []
    },
    {
      "cell_type": "code",
      "source": [
        "# Number and data types of attributes(features)\n",
        "print(\"Number of attributes:\", data.shape[1])"
      ],
      "metadata": {
        "id": "jKXqHFuatS4x",
        "outputId": "9765e4b3-b260-467a-ea99-98a8ab16a5a5",
        "colab": {
          "base_uri": "https://localhost:8080/"
        }
      },
      "execution_count": 9,
      "outputs": [
        {
          "output_type": "stream",
          "name": "stdout",
          "text": [
            "Number of attributes: 12\n"
          ]
        }
      ]
    },
    {
      "cell_type": "code",
      "source": [
        "print(\"\\nData types of attributes:\\n\", data.dtypes)"
      ],
      "metadata": {
        "id": "8C0YPK0ItmOB",
        "outputId": "ded07646-88d4-43ca-a7c3-11d6ac3da110",
        "colab": {
          "base_uri": "https://localhost:8080/"
        }
      },
      "execution_count": 10,
      "outputs": [
        {
          "output_type": "stream",
          "name": "stdout",
          "text": [
            "\n",
            "Data types of attributes:\n",
            " PassengerId      int64\n",
            "Survived         int64\n",
            "Pclass           int64\n",
            "Name            object\n",
            "Sex             object\n",
            "Age            float64\n",
            "SibSp            int64\n",
            "Parch            int64\n",
            "Ticket          object\n",
            "Fare           float64\n",
            "Cabin           object\n",
            "Embarked        object\n",
            "dtype: object\n"
          ]
        }
      ]
    },
    {
      "cell_type": "code",
      "source": [
        "# Number of objects (instances/records)\n",
        "print(\"\\nNumber of records:\", data.shape[0])"
      ],
      "metadata": {
        "id": "oluQV46WuI8b"
      },
      "execution_count": null,
      "outputs": []
    }
  ]
}